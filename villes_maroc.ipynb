{
 "cells": [
  {
   "cell_type": "markdown",
   "metadata": {
    "slideshow": {
     "slide_type": "slide"
    }
   },
   "source": [
    "# The distribution of the Refugee population in Morocco\n",
    "> ## By Abderrahman BENYAHYA\n",
    ">> ### Using UNHCR DASHBOARD for years 2016 to 2019"
   ]
  },
  {
   "cell_type": "code",
   "execution_count": 1,
   "metadata": {
    "slideshow": {
     "slide_type": "skip"
    }
   },
   "outputs": [],
   "source": [
    "import pandas as pd\n",
    "import numpy as np\n",
    "import matplotlib.pyplot as plt\n",
    "%matplotlib inline\n",
    "import wptools\n",
    "import seaborn as sb"
   ]
  },
  {
   "cell_type": "code",
   "execution_count": 2,
   "metadata": {
    "slideshow": {
     "slide_type": "skip"
    }
   },
   "outputs": [],
   "source": [
    "df= pd.read_csv('ville Maroc.csv', sep=';')"
   ]
  },
  {
   "cell_type": "code",
   "execution_count": 3,
   "metadata": {
    "slideshow": {
     "slide_type": "skip"
    }
   },
   "outputs": [],
   "source": [
    "df_2016 = df[:10]"
   ]
  },
  {
   "cell_type": "code",
   "execution_count": 4,
   "metadata": {
    "slideshow": {
     "slide_type": "skip"
    }
   },
   "outputs": [],
   "source": [
    "df_2017 =df[10:20]"
   ]
  },
  {
   "cell_type": "code",
   "execution_count": 5,
   "metadata": {
    "slideshow": {
     "slide_type": "skip"
    }
   },
   "outputs": [],
   "source": [
    "df_2018 = df[20:30]"
   ]
  },
  {
   "cell_type": "code",
   "execution_count": 6,
   "metadata": {
    "slideshow": {
     "slide_type": "skip"
    }
   },
   "outputs": [],
   "source": [
    "df_2019 = df[30:]"
   ]
  },
  {
   "cell_type": "code",
   "execution_count": 7,
   "metadata": {
    "slideshow": {
     "slide_type": "skip"
    }
   },
   "outputs": [],
   "source": [
    "df_all = pd.merge(df_2016,df_2017, on='Ville', how='left')"
   ]
  },
  {
   "cell_type": "code",
   "execution_count": 8,
   "metadata": {
    "slideshow": {
     "slide_type": "skip"
    }
   },
   "outputs": [],
   "source": [
    "df_all = pd.merge(df_all, df_2018, on='Ville', how='left')"
   ]
  },
  {
   "cell_type": "code",
   "execution_count": 9,
   "metadata": {
    "slideshow": {
     "slide_type": "skip"
    }
   },
   "outputs": [],
   "source": [
    "df_all= pd.merge(df_all, df_2019, on='Ville', how='left')"
   ]
  },
  {
   "cell_type": "code",
   "execution_count": 10,
   "metadata": {
    "slideshow": {
     "slide_type": "skip"
    }
   },
   "outputs": [
    {
     "data": {
      "text/html": [
       "<div>\n",
       "<style scoped>\n",
       "    .dataframe tbody tr th:only-of-type {\n",
       "        vertical-align: middle;\n",
       "    }\n",
       "\n",
       "    .dataframe tbody tr th {\n",
       "        vertical-align: top;\n",
       "    }\n",
       "\n",
       "    .dataframe thead th {\n",
       "        text-align: right;\n",
       "    }\n",
       "</style>\n",
       "<table border=\"1\" class=\"dataframe\">\n",
       "  <thead>\n",
       "    <tr style=\"text-align: right;\">\n",
       "      <th></th>\n",
       "      <th>Ville</th>\n",
       "      <th>31/08/2016_x</th>\n",
       "      <th>09/30/2017_x</th>\n",
       "      <th>31/08/2018_x</th>\n",
       "      <th>31/08/2019_x</th>\n",
       "      <th>31/08/2016_y</th>\n",
       "      <th>09/30/2017_y</th>\n",
       "      <th>31/08/2018_y</th>\n",
       "      <th>31/08/2019_y</th>\n",
       "      <th>31/08/2016_x</th>\n",
       "      <th>09/30/2017_x</th>\n",
       "      <th>31/08/2018_x</th>\n",
       "      <th>31/08/2019_x</th>\n",
       "      <th>31/08/2016_y</th>\n",
       "      <th>09/30/2017_y</th>\n",
       "      <th>31/08/2018_y</th>\n",
       "      <th>31/08/2019_y</th>\n",
       "    </tr>\n",
       "  </thead>\n",
       "  <tbody>\n",
       "    <tr>\n",
       "      <th>0</th>\n",
       "      <td>Casablanca</td>\n",
       "      <td>816.0</td>\n",
       "      <td>NaN</td>\n",
       "      <td>NaN</td>\n",
       "      <td>NaN</td>\n",
       "      <td>NaN</td>\n",
       "      <td>688</td>\n",
       "      <td>NaN</td>\n",
       "      <td>NaN</td>\n",
       "      <td>NaN</td>\n",
       "      <td>NaN</td>\n",
       "      <td>645.0</td>\n",
       "      <td>NaN</td>\n",
       "      <td>NaN</td>\n",
       "      <td>NaN</td>\n",
       "      <td>NaN</td>\n",
       "      <td>726.0</td>\n",
       "    </tr>\n",
       "  </tbody>\n",
       "</table>\n",
       "</div>"
      ],
      "text/plain": [
       "        Ville  31/08/2016_x 09/30/2017_x  31/08/2018_x  31/08/2019_x  \\\n",
       "0  Casablanca         816.0          NaN           NaN           NaN   \n",
       "\n",
       "   31/08/2016_y 09/30/2017_y  31/08/2018_y  31/08/2019_y  31/08/2016_x  \\\n",
       "0           NaN          688           NaN           NaN           NaN   \n",
       "\n",
       "  09/30/2017_x  31/08/2018_x  31/08/2019_x  31/08/2016_y 09/30/2017_y  \\\n",
       "0          NaN         645.0           NaN           NaN          NaN   \n",
       "\n",
       "   31/08/2018_y  31/08/2019_y  \n",
       "0           NaN         726.0  "
      ]
     },
     "execution_count": 10,
     "metadata": {},
     "output_type": "execute_result"
    }
   ],
   "source": [
    "df_all.head(1)"
   ]
  },
  {
   "cell_type": "code",
   "execution_count": 11,
   "metadata": {
    "slideshow": {
     "slide_type": "skip"
    }
   },
   "outputs": [],
   "source": [
    "df_all = df_all.rename(columns={'31/08/2016_x': 'August2016', '09/30/2017_y': 'September2017', '31/08/2018_x':'August2018', '31/08/2019_y':'August2019' })"
   ]
  },
  {
   "cell_type": "code",
   "execution_count": 12,
   "metadata": {
    "scrolled": true,
    "slideshow": {
     "slide_type": "skip"
    }
   },
   "outputs": [
    {
     "data": {
      "text/html": [
       "<div>\n",
       "<style scoped>\n",
       "    .dataframe tbody tr th:only-of-type {\n",
       "        vertical-align: middle;\n",
       "    }\n",
       "\n",
       "    .dataframe tbody tr th {\n",
       "        vertical-align: top;\n",
       "    }\n",
       "\n",
       "    .dataframe thead th {\n",
       "        text-align: right;\n",
       "    }\n",
       "</style>\n",
       "<table border=\"1\" class=\"dataframe\">\n",
       "  <thead>\n",
       "    <tr style=\"text-align: right;\">\n",
       "      <th></th>\n",
       "      <th>Ville</th>\n",
       "      <th>August2016</th>\n",
       "      <th>09/30/2017_x</th>\n",
       "      <th>August2018</th>\n",
       "      <th>31/08/2019_x</th>\n",
       "      <th>31/08/2016_y</th>\n",
       "      <th>September2017</th>\n",
       "      <th>31/08/2018_y</th>\n",
       "      <th>August2019</th>\n",
       "      <th>August2016</th>\n",
       "      <th>09/30/2017_x</th>\n",
       "      <th>August2018</th>\n",
       "      <th>31/08/2019_x</th>\n",
       "      <th>31/08/2016_y</th>\n",
       "      <th>September2017</th>\n",
       "      <th>31/08/2018_y</th>\n",
       "      <th>August2019</th>\n",
       "    </tr>\n",
       "  </thead>\n",
       "  <tbody>\n",
       "    <tr>\n",
       "      <th>0</th>\n",
       "      <td>Casablanca</td>\n",
       "      <td>816.0</td>\n",
       "      <td>NaN</td>\n",
       "      <td>NaN</td>\n",
       "      <td>NaN</td>\n",
       "      <td>NaN</td>\n",
       "      <td>688</td>\n",
       "      <td>NaN</td>\n",
       "      <td>NaN</td>\n",
       "      <td>NaN</td>\n",
       "      <td>NaN</td>\n",
       "      <td>645.0</td>\n",
       "      <td>NaN</td>\n",
       "      <td>NaN</td>\n",
       "      <td>NaN</td>\n",
       "      <td>NaN</td>\n",
       "      <td>726.0</td>\n",
       "    </tr>\n",
       "  </tbody>\n",
       "</table>\n",
       "</div>"
      ],
      "text/plain": [
       "        Ville  August2016 09/30/2017_x  August2018  31/08/2019_x  \\\n",
       "0  Casablanca       816.0          NaN         NaN           NaN   \n",
       "\n",
       "   31/08/2016_y September2017  31/08/2018_y  August2019  August2016  \\\n",
       "0           NaN           688           NaN         NaN         NaN   \n",
       "\n",
       "  09/30/2017_x  August2018  31/08/2019_x  31/08/2016_y September2017  \\\n",
       "0          NaN       645.0           NaN           NaN           NaN   \n",
       "\n",
       "   31/08/2018_y  August2019  \n",
       "0           NaN       726.0  "
      ]
     },
     "execution_count": 12,
     "metadata": {},
     "output_type": "execute_result"
    }
   ],
   "source": [
    "df_all.head(1)"
   ]
  },
  {
   "cell_type": "code",
   "execution_count": 13,
   "metadata": {
    "slideshow": {
     "slide_type": "skip"
    }
   },
   "outputs": [
    {
     "name": "stdout",
     "output_type": "stream",
     "text": [
      "<class 'pandas.core.frame.DataFrame'>\n",
      "Int64Index: 10 entries, 0 to 9\n",
      "Data columns (total 17 columns):\n",
      "Ville            10 non-null object\n",
      "August2016       10 non-null float64\n",
      "09/30/2017_x     0 non-null object\n",
      "August2018       0 non-null float64\n",
      "31/08/2019_x     0 non-null float64\n",
      "31/08/2016_y     0 non-null float64\n",
      "September2017    9 non-null object\n",
      "31/08/2018_y     0 non-null float64\n",
      "August2019       0 non-null float64\n",
      "August2016       0 non-null float64\n",
      "09/30/2017_x     0 non-null object\n",
      "August2018       8 non-null float64\n",
      "31/08/2019_x     0 non-null float64\n",
      "31/08/2016_y     0 non-null float64\n",
      "September2017    0 non-null object\n",
      "31/08/2018_y     0 non-null float64\n",
      "August2019       8 non-null float64\n",
      "dtypes: float64(12), object(5)\n",
      "memory usage: 1.4+ KB\n"
     ]
    }
   ],
   "source": [
    "df_all.info()"
   ]
  },
  {
   "cell_type": "code",
   "execution_count": 14,
   "metadata": {
    "slideshow": {
     "slide_type": "skip"
    }
   },
   "outputs": [],
   "source": [
    "df_all = df_all.dropna(axis=1, how='all')"
   ]
  },
  {
   "cell_type": "code",
   "execution_count": 15,
   "metadata": {
    "slideshow": {
     "slide_type": "skip"
    }
   },
   "outputs": [
    {
     "data": {
      "text/html": [
       "<div>\n",
       "<style scoped>\n",
       "    .dataframe tbody tr th:only-of-type {\n",
       "        vertical-align: middle;\n",
       "    }\n",
       "\n",
       "    .dataframe tbody tr th {\n",
       "        vertical-align: top;\n",
       "    }\n",
       "\n",
       "    .dataframe thead th {\n",
       "        text-align: right;\n",
       "    }\n",
       "</style>\n",
       "<table border=\"1\" class=\"dataframe\">\n",
       "  <thead>\n",
       "    <tr style=\"text-align: right;\">\n",
       "      <th></th>\n",
       "      <th>Ville</th>\n",
       "      <th>August2016</th>\n",
       "      <th>September2017</th>\n",
       "      <th>August2018</th>\n",
       "      <th>August2019</th>\n",
       "    </tr>\n",
       "  </thead>\n",
       "  <tbody>\n",
       "    <tr>\n",
       "      <th>0</th>\n",
       "      <td>Casablanca</td>\n",
       "      <td>816.0</td>\n",
       "      <td>688</td>\n",
       "      <td>645.0</td>\n",
       "      <td>726.0</td>\n",
       "    </tr>\n",
       "    <tr>\n",
       "      <th>1</th>\n",
       "      <td>Rabat</td>\n",
       "      <td>802.0</td>\n",
       "      <td>891</td>\n",
       "      <td>960.0</td>\n",
       "      <td>1086.0</td>\n",
       "    </tr>\n",
       "    <tr>\n",
       "      <th>2</th>\n",
       "      <td>Oujda</td>\n",
       "      <td>494.0</td>\n",
       "      <td>533</td>\n",
       "      <td>581.0</td>\n",
       "      <td>570.0</td>\n",
       "    </tr>\n",
       "    <tr>\n",
       "      <th>3</th>\n",
       "      <td>Temara</td>\n",
       "      <td>273.0</td>\n",
       "      <td>271</td>\n",
       "      <td>294.0</td>\n",
       "      <td>383.0</td>\n",
       "    </tr>\n",
       "    <tr>\n",
       "      <th>4</th>\n",
       "      <td>Kenitra</td>\n",
       "      <td>272.0</td>\n",
       "      <td>422</td>\n",
       "      <td>NaN</td>\n",
       "      <td>NaN</td>\n",
       "    </tr>\n",
       "    <tr>\n",
       "      <th>5</th>\n",
       "      <td>Tanger</td>\n",
       "      <td>268.0</td>\n",
       "      <td>235</td>\n",
       "      <td>304.0</td>\n",
       "      <td>289.0</td>\n",
       "    </tr>\n",
       "    <tr>\n",
       "      <th>6</th>\n",
       "      <td>Meknes</td>\n",
       "      <td>168.0</td>\n",
       "      <td>209</td>\n",
       "      <td>223.0</td>\n",
       "      <td>297.0</td>\n",
       "    </tr>\n",
       "    <tr>\n",
       "      <th>7</th>\n",
       "      <td>Salé</td>\n",
       "      <td>146.0</td>\n",
       "      <td>NaN</td>\n",
       "      <td>NaN</td>\n",
       "      <td>NaN</td>\n",
       "    </tr>\n",
       "    <tr>\n",
       "      <th>8</th>\n",
       "      <td>Others</td>\n",
       "      <td>909.0</td>\n",
       "      <td>1 216</td>\n",
       "      <td>1489.0</td>\n",
       "      <td>2074.0</td>\n",
       "    </tr>\n",
       "    <tr>\n",
       "      <th>9</th>\n",
       "      <td>Unknown</td>\n",
       "      <td>23.0</td>\n",
       "      <td>3</td>\n",
       "      <td>0.0</td>\n",
       "      <td>33.0</td>\n",
       "    </tr>\n",
       "  </tbody>\n",
       "</table>\n",
       "</div>"
      ],
      "text/plain": [
       "        Ville  August2016 September2017  August2018  August2019\n",
       "0  Casablanca       816.0           688       645.0       726.0\n",
       "1       Rabat       802.0           891       960.0      1086.0\n",
       "2       Oujda       494.0           533       581.0       570.0\n",
       "3      Temara       273.0           271       294.0       383.0\n",
       "4     Kenitra       272.0           422         NaN         NaN\n",
       "5      Tanger       268.0           235       304.0       289.0\n",
       "6      Meknes       168.0           209       223.0       297.0\n",
       "7        Salé       146.0           NaN         NaN         NaN\n",
       "8      Others       909.0         1 216      1489.0      2074.0\n",
       "9     Unknown        23.0             3         0.0        33.0"
      ]
     },
     "execution_count": 15,
     "metadata": {},
     "output_type": "execute_result"
    }
   ],
   "source": [
    "df_all"
   ]
  },
  {
   "cell_type": "code",
   "execution_count": 16,
   "metadata": {
    "slideshow": {
     "slide_type": "skip"
    }
   },
   "outputs": [],
   "source": [
    "df_all.September2017 = df_all.September2017.str.replace(('\\D+'), '')"
   ]
  },
  {
   "cell_type": "code",
   "execution_count": 17,
   "metadata": {
    "slideshow": {
     "slide_type": "skip"
    }
   },
   "outputs": [],
   "source": [
    "df_all.September2017 = df_all.September2017.astype('float')"
   ]
  },
  {
   "cell_type": "markdown",
   "metadata": {
    "slideshow": {
     "slide_type": "slide"
    }
   },
   "source": [
    "### The distribution of the Refugee Population in Morocan cities during the last 4 years\n",
    "\n",
    "> #### We can see that Casablanca has different trends from other that show an augmentation of refugees"
   ]
  },
  {
   "cell_type": "code",
   "execution_count": 76,
   "metadata": {
    "slideshow": {
     "slide_type": "subslide"
    }
   },
   "outputs": [
    {
     "data": {
      "image/png": "[encoded data removed]",
      "text/plain": [
       "<Figure size 432x288 with 1 Axes>"
      ]
     },
     "metadata": {
      "needs_background": "light"
     },
     "output_type": "display_data"
    }
   ],
   "source": [
    "plt.scatter(df_all['Ville'], df_all['August2016'], label='August2016')\n",
    "plt.scatter(df_all['Ville'], df_all['September2017'], label='September2017')\n",
    "plt.scatter(df_all['Ville'], df_all['August2018'], label='August2018')\n",
    "plt.scatter(df_all['Ville'], df_all['August2019'], label='August2019')\n",
    "plt.legend(framealpha=1, frameon=True)\n",
    "plt.xlabel('villes')\n",
    "plt.title('Nombre de réfugiés par ville et par année')\n",
    "plt.ylabel('Nombre de réfugiés')\n",
    "plt.xticks(rotation=25);\n"
   ]
  },
  {
   "cell_type": "code",
   "execution_count": 25,
   "metadata": {
    "slideshow": {
     "slide_type": "skip"
    }
   },
   "outputs": [
    {
     "name": "stdout",
     "output_type": "stream",
     "text": [
      "Others\n",
      "Unknown\n"
     ]
    }
   ],
   "source": [
    "df_list=[]\n",
    "errors={}\n",
    "for city in df_all['Ville']:\n",
    "    try:\n",
    "        page = wptools.page(city, silent=True)\n",
    "        pop_total = page.get().data['infobox']['population_total']\n",
    "        region = page.get().data['infobox']['subdivision_name1']\n",
    "                # Append to list of dictionaries\n",
    "        df_list.append({'Ville': city,\n",
    "                        'Total_pop': pop_total,\n",
    "                         'Region': region})\n",
    "    \n",
    "    # Not best practice to catch all exceptions but fine for this short script\n",
    "    except Exception as e:\n",
    "        print(city )\n",
    "        errors[city] = None"
   ]
  },
  {
   "cell_type": "code",
   "execution_count": 26,
   "metadata": {
    "slideshow": {
     "slide_type": "skip"
    }
   },
   "outputs": [],
   "source": [
    "df_list = pd.DataFrame(df_list)"
   ]
  },
  {
   "cell_type": "code",
   "execution_count": 27,
   "metadata": {
    "slideshow": {
     "slide_type": "skip"
    }
   },
   "outputs": [
    {
     "data": {
      "text/html": [
       "<div>\n",
       "<style scoped>\n",
       "    .dataframe tbody tr th:only-of-type {\n",
       "        vertical-align: middle;\n",
       "    }\n",
       "\n",
       "    .dataframe tbody tr th {\n",
       "        vertical-align: top;\n",
       "    }\n",
       "\n",
       "    .dataframe thead th {\n",
       "        text-align: right;\n",
       "    }\n",
       "</style>\n",
       "<table border=\"1\" class=\"dataframe\">\n",
       "  <thead>\n",
       "    <tr style=\"text-align: right;\">\n",
       "      <th></th>\n",
       "      <th>Region</th>\n",
       "      <th>Total_pop</th>\n",
       "      <th>Ville</th>\n",
       "    </tr>\n",
       "  </thead>\n",
       "  <tbody>\n",
       "    <tr>\n",
       "      <th>0</th>\n",
       "      <td>[[Casablanca-Settat]]</td>\n",
       "      <td>3359818</td>\n",
       "      <td>Casablanca</td>\n",
       "    </tr>\n",
       "    <tr>\n",
       "      <th>1</th>\n",
       "      <td>[[Rabat-Salé-Kénitra]]</td>\n",
       "      <td>577,827</td>\n",
       "      <td>Rabat</td>\n",
       "    </tr>\n",
       "    <tr>\n",
       "      <th>2</th>\n",
       "      <td>[[Oriental (Morocco)|Oriental]]</td>\n",
       "      <td>494252</td>\n",
       "      <td>Oujda</td>\n",
       "    </tr>\n",
       "    <tr>\n",
       "      <th>3</th>\n",
       "      <td>[[Rabat-Salé-Kénitra]]</td>\n",
       "      <td>313510</td>\n",
       "      <td>Temara</td>\n",
       "    </tr>\n",
       "    <tr>\n",
       "      <th>4</th>\n",
       "      <td>[[Rabat-Salé-Kénitra]]</td>\n",
       "      <td>431282</td>\n",
       "      <td>Kenitra</td>\n",
       "    </tr>\n",
       "  </tbody>\n",
       "</table>\n",
       "</div>"
      ],
      "text/plain": [
       "                            Region Total_pop       Ville\n",
       "0            [[Casablanca-Settat]]   3359818  Casablanca\n",
       "1           [[Rabat-Salé-Kénitra]]   577,827       Rabat\n",
       "2  [[Oriental (Morocco)|Oriental]]    494252       Oujda\n",
       "3           [[Rabat-Salé-Kénitra]]    313510      Temara\n",
       "4           [[Rabat-Salé-Kénitra]]    431282     Kenitra"
      ]
     },
     "execution_count": 27,
     "metadata": {},
     "output_type": "execute_result"
    }
   ],
   "source": [
    "df_list.head()"
   ]
  },
  {
   "cell_type": "code",
   "execution_count": 28,
   "metadata": {
    "slideshow": {
     "slide_type": "skip"
    }
   },
   "outputs": [],
   "source": [
    "df_all = pd.merge(df_list, df_all, on='Ville', how='left')"
   ]
  },
  {
   "cell_type": "code",
   "execution_count": 29,
   "metadata": {
    "slideshow": {
     "slide_type": "skip"
    }
   },
   "outputs": [
    {
     "data": {
      "text/html": [
       "<div>\n",
       "<style scoped>\n",
       "    .dataframe tbody tr th:only-of-type {\n",
       "        vertical-align: middle;\n",
       "    }\n",
       "\n",
       "    .dataframe tbody tr th {\n",
       "        vertical-align: top;\n",
       "    }\n",
       "\n",
       "    .dataframe thead th {\n",
       "        text-align: right;\n",
       "    }\n",
       "</style>\n",
       "<table border=\"1\" class=\"dataframe\">\n",
       "  <thead>\n",
       "    <tr style=\"text-align: right;\">\n",
       "      <th></th>\n",
       "      <th>Region</th>\n",
       "      <th>Total_pop</th>\n",
       "      <th>Ville</th>\n",
       "      <th>August2016</th>\n",
       "      <th>September2017</th>\n",
       "      <th>August2018</th>\n",
       "      <th>August2019</th>\n",
       "    </tr>\n",
       "  </thead>\n",
       "  <tbody>\n",
       "    <tr>\n",
       "      <th>0</th>\n",
       "      <td>[[Casablanca-Settat]]</td>\n",
       "      <td>3359818</td>\n",
       "      <td>Casablanca</td>\n",
       "      <td>816.0</td>\n",
       "      <td>688.0</td>\n",
       "      <td>645.0</td>\n",
       "      <td>726.0</td>\n",
       "    </tr>\n",
       "    <tr>\n",
       "      <th>1</th>\n",
       "      <td>[[Rabat-Salé-Kénitra]]</td>\n",
       "      <td>577,827</td>\n",
       "      <td>Rabat</td>\n",
       "      <td>802.0</td>\n",
       "      <td>891.0</td>\n",
       "      <td>960.0</td>\n",
       "      <td>1086.0</td>\n",
       "    </tr>\n",
       "    <tr>\n",
       "      <th>2</th>\n",
       "      <td>[[Oriental (Morocco)|Oriental]]</td>\n",
       "      <td>494252</td>\n",
       "      <td>Oujda</td>\n",
       "      <td>494.0</td>\n",
       "      <td>533.0</td>\n",
       "      <td>581.0</td>\n",
       "      <td>570.0</td>\n",
       "    </tr>\n",
       "    <tr>\n",
       "      <th>3</th>\n",
       "      <td>[[Rabat-Salé-Kénitra]]</td>\n",
       "      <td>313510</td>\n",
       "      <td>Temara</td>\n",
       "      <td>273.0</td>\n",
       "      <td>271.0</td>\n",
       "      <td>294.0</td>\n",
       "      <td>383.0</td>\n",
       "    </tr>\n",
       "    <tr>\n",
       "      <th>4</th>\n",
       "      <td>[[Rabat-Salé-Kénitra]]</td>\n",
       "      <td>431282</td>\n",
       "      <td>Kenitra</td>\n",
       "      <td>272.0</td>\n",
       "      <td>422.0</td>\n",
       "      <td>NaN</td>\n",
       "      <td>NaN</td>\n",
       "    </tr>\n",
       "    <tr>\n",
       "      <th>5</th>\n",
       "      <td>[[Tanger-Tetouan-Al Hoceima]]</td>\n",
       "      <td>947952</td>\n",
       "      <td>Tanger</td>\n",
       "      <td>268.0</td>\n",
       "      <td>235.0</td>\n",
       "      <td>304.0</td>\n",
       "      <td>289.0</td>\n",
       "    </tr>\n",
       "    <tr>\n",
       "      <th>6</th>\n",
       "      <td>[[Fès-Meknès]]</td>\n",
       "      <td>632079</td>\n",
       "      <td>Meknes</td>\n",
       "      <td>168.0</td>\n",
       "      <td>209.0</td>\n",
       "      <td>223.0</td>\n",
       "      <td>297.0</td>\n",
       "    </tr>\n",
       "    <tr>\n",
       "      <th>7</th>\n",
       "      <td>[[Rabat-Salé-Kénitra]]</td>\n",
       "      <td>890403</td>\n",
       "      <td>Salé</td>\n",
       "      <td>146.0</td>\n",
       "      <td>NaN</td>\n",
       "      <td>NaN</td>\n",
       "      <td>NaN</td>\n",
       "    </tr>\n",
       "  </tbody>\n",
       "</table>\n",
       "</div>"
      ],
      "text/plain": [
       "                            Region Total_pop       Ville  August2016  \\\n",
       "0            [[Casablanca-Settat]]   3359818  Casablanca       816.0   \n",
       "1           [[Rabat-Salé-Kénitra]]   577,827       Rabat       802.0   \n",
       "2  [[Oriental (Morocco)|Oriental]]    494252       Oujda       494.0   \n",
       "3           [[Rabat-Salé-Kénitra]]    313510      Temara       273.0   \n",
       "4           [[Rabat-Salé-Kénitra]]    431282     Kenitra       272.0   \n",
       "5    [[Tanger-Tetouan-Al Hoceima]]    947952      Tanger       268.0   \n",
       "6                   [[Fès-Meknès]]    632079      Meknes       168.0   \n",
       "7           [[Rabat-Salé-Kénitra]]    890403        Salé       146.0   \n",
       "\n",
       "   September2017  August2018  August2019  \n",
       "0          688.0       645.0       726.0  \n",
       "1          891.0       960.0      1086.0  \n",
       "2          533.0       581.0       570.0  \n",
       "3          271.0       294.0       383.0  \n",
       "4          422.0         NaN         NaN  \n",
       "5          235.0       304.0       289.0  \n",
       "6          209.0       223.0       297.0  \n",
       "7            NaN         NaN         NaN  "
      ]
     },
     "execution_count": 29,
     "metadata": {},
     "output_type": "execute_result"
    }
   ],
   "source": [
    "df_all"
   ]
  },
  {
   "cell_type": "code",
   "execution_count": 30,
   "metadata": {
    "slideshow": {
     "slide_type": "skip"
    }
   },
   "outputs": [],
   "source": [
    "df_all.Total_pop = df_all.Total_pop.str.replace(('\\D+'), '')"
   ]
  },
  {
   "cell_type": "code",
   "execution_count": 31,
   "metadata": {
    "scrolled": true,
    "slideshow": {
     "slide_type": "skip"
    }
   },
   "outputs": [
    {
     "data": {
      "text/html": [
       "<div>\n",
       "<style scoped>\n",
       "    .dataframe tbody tr th:only-of-type {\n",
       "        vertical-align: middle;\n",
       "    }\n",
       "\n",
       "    .dataframe tbody tr th {\n",
       "        vertical-align: top;\n",
       "    }\n",
       "\n",
       "    .dataframe thead th {\n",
       "        text-align: right;\n",
       "    }\n",
       "</style>\n",
       "<table border=\"1\" class=\"dataframe\">\n",
       "  <thead>\n",
       "    <tr style=\"text-align: right;\">\n",
       "      <th></th>\n",
       "      <th>Region</th>\n",
       "      <th>Total_pop</th>\n",
       "      <th>Ville</th>\n",
       "      <th>August2016</th>\n",
       "      <th>September2017</th>\n",
       "      <th>August2018</th>\n",
       "      <th>August2019</th>\n",
       "    </tr>\n",
       "  </thead>\n",
       "  <tbody>\n",
       "    <tr>\n",
       "      <th>0</th>\n",
       "      <td>[[Casablanca-Settat]]</td>\n",
       "      <td>3359818</td>\n",
       "      <td>Casablanca</td>\n",
       "      <td>816.0</td>\n",
       "      <td>688.0</td>\n",
       "      <td>645.0</td>\n",
       "      <td>726.0</td>\n",
       "    </tr>\n",
       "    <tr>\n",
       "      <th>1</th>\n",
       "      <td>[[Rabat-Salé-Kénitra]]</td>\n",
       "      <td>577827</td>\n",
       "      <td>Rabat</td>\n",
       "      <td>802.0</td>\n",
       "      <td>891.0</td>\n",
       "      <td>960.0</td>\n",
       "      <td>1086.0</td>\n",
       "    </tr>\n",
       "    <tr>\n",
       "      <th>2</th>\n",
       "      <td>[[Oriental (Morocco)|Oriental]]</td>\n",
       "      <td>494252</td>\n",
       "      <td>Oujda</td>\n",
       "      <td>494.0</td>\n",
       "      <td>533.0</td>\n",
       "      <td>581.0</td>\n",
       "      <td>570.0</td>\n",
       "    </tr>\n",
       "    <tr>\n",
       "      <th>3</th>\n",
       "      <td>[[Rabat-Salé-Kénitra]]</td>\n",
       "      <td>313510</td>\n",
       "      <td>Temara</td>\n",
       "      <td>273.0</td>\n",
       "      <td>271.0</td>\n",
       "      <td>294.0</td>\n",
       "      <td>383.0</td>\n",
       "    </tr>\n",
       "    <tr>\n",
       "      <th>4</th>\n",
       "      <td>[[Rabat-Salé-Kénitra]]</td>\n",
       "      <td>431282</td>\n",
       "      <td>Kenitra</td>\n",
       "      <td>272.0</td>\n",
       "      <td>422.0</td>\n",
       "      <td>NaN</td>\n",
       "      <td>NaN</td>\n",
       "    </tr>\n",
       "    <tr>\n",
       "      <th>5</th>\n",
       "      <td>[[Tanger-Tetouan-Al Hoceima]]</td>\n",
       "      <td>947952</td>\n",
       "      <td>Tanger</td>\n",
       "      <td>268.0</td>\n",
       "      <td>235.0</td>\n",
       "      <td>304.0</td>\n",
       "      <td>289.0</td>\n",
       "    </tr>\n",
       "    <tr>\n",
       "      <th>6</th>\n",
       "      <td>[[Fès-Meknès]]</td>\n",
       "      <td>632079</td>\n",
       "      <td>Meknes</td>\n",
       "      <td>168.0</td>\n",
       "      <td>209.0</td>\n",
       "      <td>223.0</td>\n",
       "      <td>297.0</td>\n",
       "    </tr>\n",
       "    <tr>\n",
       "      <th>7</th>\n",
       "      <td>[[Rabat-Salé-Kénitra]]</td>\n",
       "      <td>890403</td>\n",
       "      <td>Salé</td>\n",
       "      <td>146.0</td>\n",
       "      <td>NaN</td>\n",
       "      <td>NaN</td>\n",
       "      <td>NaN</td>\n",
       "    </tr>\n",
       "  </tbody>\n",
       "</table>\n",
       "</div>"
      ],
      "text/plain": [
       "                            Region Total_pop       Ville  August2016  \\\n",
       "0            [[Casablanca-Settat]]   3359818  Casablanca       816.0   \n",
       "1           [[Rabat-Salé-Kénitra]]    577827       Rabat       802.0   \n",
       "2  [[Oriental (Morocco)|Oriental]]    494252       Oujda       494.0   \n",
       "3           [[Rabat-Salé-Kénitra]]    313510      Temara       273.0   \n",
       "4           [[Rabat-Salé-Kénitra]]    431282     Kenitra       272.0   \n",
       "5    [[Tanger-Tetouan-Al Hoceima]]    947952      Tanger       268.0   \n",
       "6                   [[Fès-Meknès]]    632079      Meknes       168.0   \n",
       "7           [[Rabat-Salé-Kénitra]]    890403        Salé       146.0   \n",
       "\n",
       "   September2017  August2018  August2019  \n",
       "0          688.0       645.0       726.0  \n",
       "1          891.0       960.0      1086.0  \n",
       "2          533.0       581.0       570.0  \n",
       "3          271.0       294.0       383.0  \n",
       "4          422.0         NaN         NaN  \n",
       "5          235.0       304.0       289.0  \n",
       "6          209.0       223.0       297.0  \n",
       "7            NaN         NaN         NaN  "
      ]
     },
     "execution_count": 31,
     "metadata": {},
     "output_type": "execute_result"
    }
   ],
   "source": [
    "df_all"
   ]
  },
  {
   "cell_type": "code",
   "execution_count": 32,
   "metadata": {
    "slideshow": {
     "slide_type": "skip"
    }
   },
   "outputs": [],
   "source": [
    "df_all.to_csv('Villes_Maroccomplete.csv', index=False)"
   ]
  },
  {
   "cell_type": "code",
   "execution_count": 33,
   "metadata": {
    "slideshow": {
     "slide_type": "skip"
    }
   },
   "outputs": [],
   "source": [
    "df_clean= pd.read_csv('Villes_Maroccomplete.csv')"
   ]
  },
  {
   "cell_type": "code",
   "execution_count": 34,
   "metadata": {
    "slideshow": {
     "slide_type": "skip"
    }
   },
   "outputs": [
    {
     "data": {
      "text/html": [
       "<div>\n",
       "<style scoped>\n",
       "    .dataframe tbody tr th:only-of-type {\n",
       "        vertical-align: middle;\n",
       "    }\n",
       "\n",
       "    .dataframe tbody tr th {\n",
       "        vertical-align: top;\n",
       "    }\n",
       "\n",
       "    .dataframe thead th {\n",
       "        text-align: right;\n",
       "    }\n",
       "</style>\n",
       "<table border=\"1\" class=\"dataframe\">\n",
       "  <thead>\n",
       "    <tr style=\"text-align: right;\">\n",
       "      <th></th>\n",
       "      <th>Region</th>\n",
       "      <th>Total_pop</th>\n",
       "      <th>Ville</th>\n",
       "      <th>August2016</th>\n",
       "      <th>September2017</th>\n",
       "      <th>August2018</th>\n",
       "      <th>August2019</th>\n",
       "    </tr>\n",
       "  </thead>\n",
       "  <tbody>\n",
       "    <tr>\n",
       "      <th>0</th>\n",
       "      <td>[[Casablanca-Settat]]</td>\n",
       "      <td>3359818</td>\n",
       "      <td>Casablanca</td>\n",
       "      <td>816.0</td>\n",
       "      <td>688.0</td>\n",
       "      <td>645.0</td>\n",
       "      <td>726.0</td>\n",
       "    </tr>\n",
       "    <tr>\n",
       "      <th>1</th>\n",
       "      <td>[[Rabat-Salé-Kénitra]]</td>\n",
       "      <td>577827</td>\n",
       "      <td>Rabat</td>\n",
       "      <td>802.0</td>\n",
       "      <td>891.0</td>\n",
       "      <td>960.0</td>\n",
       "      <td>1086.0</td>\n",
       "    </tr>\n",
       "    <tr>\n",
       "      <th>2</th>\n",
       "      <td>[[Oriental (Morocco)|Oriental]]</td>\n",
       "      <td>494252</td>\n",
       "      <td>Oujda</td>\n",
       "      <td>494.0</td>\n",
       "      <td>533.0</td>\n",
       "      <td>581.0</td>\n",
       "      <td>570.0</td>\n",
       "    </tr>\n",
       "    <tr>\n",
       "      <th>3</th>\n",
       "      <td>[[Rabat-Salé-Kénitra]]</td>\n",
       "      <td>313510</td>\n",
       "      <td>Temara</td>\n",
       "      <td>273.0</td>\n",
       "      <td>271.0</td>\n",
       "      <td>294.0</td>\n",
       "      <td>383.0</td>\n",
       "    </tr>\n",
       "    <tr>\n",
       "      <th>4</th>\n",
       "      <td>[[Rabat-Salé-Kénitra]]</td>\n",
       "      <td>431282</td>\n",
       "      <td>Kenitra</td>\n",
       "      <td>272.0</td>\n",
       "      <td>422.0</td>\n",
       "      <td>NaN</td>\n",
       "      <td>NaN</td>\n",
       "    </tr>\n",
       "    <tr>\n",
       "      <th>5</th>\n",
       "      <td>[[Tanger-Tetouan-Al Hoceima]]</td>\n",
       "      <td>947952</td>\n",
       "      <td>Tanger</td>\n",
       "      <td>268.0</td>\n",
       "      <td>235.0</td>\n",
       "      <td>304.0</td>\n",
       "      <td>289.0</td>\n",
       "    </tr>\n",
       "    <tr>\n",
       "      <th>6</th>\n",
       "      <td>[[Fès-Meknès]]</td>\n",
       "      <td>632079</td>\n",
       "      <td>Meknes</td>\n",
       "      <td>168.0</td>\n",
       "      <td>209.0</td>\n",
       "      <td>223.0</td>\n",
       "      <td>297.0</td>\n",
       "    </tr>\n",
       "    <tr>\n",
       "      <th>7</th>\n",
       "      <td>[[Rabat-Salé-Kénitra]]</td>\n",
       "      <td>890403</td>\n",
       "      <td>Salé</td>\n",
       "      <td>146.0</td>\n",
       "      <td>NaN</td>\n",
       "      <td>NaN</td>\n",
       "      <td>NaN</td>\n",
       "    </tr>\n",
       "  </tbody>\n",
       "</table>\n",
       "</div>"
      ],
      "text/plain": [
       "                            Region  Total_pop       Ville  August2016  \\\n",
       "0            [[Casablanca-Settat]]    3359818  Casablanca       816.0   \n",
       "1           [[Rabat-Salé-Kénitra]]     577827       Rabat       802.0   \n",
       "2  [[Oriental (Morocco)|Oriental]]     494252       Oujda       494.0   \n",
       "3           [[Rabat-Salé-Kénitra]]     313510      Temara       273.0   \n",
       "4           [[Rabat-Salé-Kénitra]]     431282     Kenitra       272.0   \n",
       "5    [[Tanger-Tetouan-Al Hoceima]]     947952      Tanger       268.0   \n",
       "6                   [[Fès-Meknès]]     632079      Meknes       168.0   \n",
       "7           [[Rabat-Salé-Kénitra]]     890403        Salé       146.0   \n",
       "\n",
       "   September2017  August2018  August2019  \n",
       "0          688.0       645.0       726.0  \n",
       "1          891.0       960.0      1086.0  \n",
       "2          533.0       581.0       570.0  \n",
       "3          271.0       294.0       383.0  \n",
       "4          422.0         NaN         NaN  \n",
       "5          235.0       304.0       289.0  \n",
       "6          209.0       223.0       297.0  \n",
       "7            NaN         NaN         NaN  "
      ]
     },
     "execution_count": 34,
     "metadata": {},
     "output_type": "execute_result"
    }
   ],
   "source": [
    "df_clean"
   ]
  },
  {
   "cell_type": "code",
   "execution_count": 35,
   "metadata": {
    "slideshow": {
     "slide_type": "skip"
    }
   },
   "outputs": [],
   "source": [
    "page = wptools.page('Rabat', silent=True)\n",
    "pop_total = page.get().data['infobox']['population_total']\n",
    "Coordinates = page.get().data['infobox']['coordinates']"
   ]
  },
  {
   "cell_type": "code",
   "execution_count": 37,
   "metadata": {
    "slideshow": {
     "slide_type": "skip"
    }
   },
   "outputs": [],
   "source": [
    "from geopy.geocoders import Nominatim\n",
    "df_list =[]\n",
    "errors={}\n",
    "for city in df_clean['Ville']:\n",
    "    try:\n",
    "        geolocator = Nominatim(user_agent=\"OpenStreetMap Web Site\")\n",
    "        location = geolocator.geocode(city)\n",
    "        df_list.append({'Ville': city,\n",
    "                        'lat': location.latitude,\n",
    "                         'lon': location.longitude,\n",
    "                       })\n",
    "    \n",
    "    # Not best practice to catch all exceptions but fine for this short script\n",
    "    except Exception as e:\n",
    "        print(city )\n",
    "        errors[city] = None\n",
    "\n"
   ]
  },
  {
   "cell_type": "code",
   "execution_count": 38,
   "metadata": {
    "slideshow": {
     "slide_type": "skip"
    }
   },
   "outputs": [],
   "source": [
    "df_list = pd.DataFrame(df_list)"
   ]
  },
  {
   "cell_type": "code",
   "execution_count": 39,
   "metadata": {
    "slideshow": {
     "slide_type": "skip"
    }
   },
   "outputs": [
    {
     "data": {
      "text/html": [
       "<div>\n",
       "<style scoped>\n",
       "    .dataframe tbody tr th:only-of-type {\n",
       "        vertical-align: middle;\n",
       "    }\n",
       "\n",
       "    .dataframe tbody tr th {\n",
       "        vertical-align: top;\n",
       "    }\n",
       "\n",
       "    .dataframe thead th {\n",
       "        text-align: right;\n",
       "    }\n",
       "</style>\n",
       "<table border=\"1\" class=\"dataframe\">\n",
       "  <thead>\n",
       "    <tr style=\"text-align: right;\">\n",
       "      <th></th>\n",
       "      <th>Ville</th>\n",
       "      <th>lat</th>\n",
       "      <th>lon</th>\n",
       "    </tr>\n",
       "  </thead>\n",
       "  <tbody>\n",
       "    <tr>\n",
       "      <th>0</th>\n",
       "      <td>Casablanca</td>\n",
       "      <td>33.595063</td>\n",
       "      <td>-7.618777</td>\n",
       "    </tr>\n",
       "    <tr>\n",
       "      <th>1</th>\n",
       "      <td>Rabat</td>\n",
       "      <td>34.022405</td>\n",
       "      <td>-6.834543</td>\n",
       "    </tr>\n",
       "    <tr>\n",
       "      <th>2</th>\n",
       "      <td>Oujda</td>\n",
       "      <td>34.677874</td>\n",
       "      <td>-1.929306</td>\n",
       "    </tr>\n",
       "    <tr>\n",
       "      <th>3</th>\n",
       "      <td>Temara</td>\n",
       "      <td>33.922468</td>\n",
       "      <td>-6.913341</td>\n",
       "    </tr>\n",
       "    <tr>\n",
       "      <th>4</th>\n",
       "      <td>Kenitra</td>\n",
       "      <td>34.264570</td>\n",
       "      <td>-6.570169</td>\n",
       "    </tr>\n",
       "    <tr>\n",
       "      <th>5</th>\n",
       "      <td>Tanger</td>\n",
       "      <td>35.764231</td>\n",
       "      <td>-5.818626</td>\n",
       "    </tr>\n",
       "    <tr>\n",
       "      <th>6</th>\n",
       "      <td>Meknes</td>\n",
       "      <td>33.897812</td>\n",
       "      <td>-5.531984</td>\n",
       "    </tr>\n",
       "    <tr>\n",
       "      <th>7</th>\n",
       "      <td>Salé</td>\n",
       "      <td>34.015678</td>\n",
       "      <td>-6.756799</td>\n",
       "    </tr>\n",
       "  </tbody>\n",
       "</table>\n",
       "</div>"
      ],
      "text/plain": [
       "        Ville        lat       lon\n",
       "0  Casablanca  33.595063 -7.618777\n",
       "1       Rabat  34.022405 -6.834543\n",
       "2       Oujda  34.677874 -1.929306\n",
       "3      Temara  33.922468 -6.913341\n",
       "4     Kenitra  34.264570 -6.570169\n",
       "5      Tanger  35.764231 -5.818626\n",
       "6      Meknes  33.897812 -5.531984\n",
       "7        Salé  34.015678 -6.756799"
      ]
     },
     "execution_count": 39,
     "metadata": {},
     "output_type": "execute_result"
    }
   ],
   "source": [
    "df_list"
   ]
  },
  {
   "cell_type": "code",
   "execution_count": 40,
   "metadata": {
    "slideshow": {
     "slide_type": "skip"
    }
   },
   "outputs": [],
   "source": [
    "import geoplotlib"
   ]
  },
  {
   "cell_type": "code",
   "execution_count": 42,
   "metadata": {
    "slideshow": {
     "slide_type": "skip"
    }
   },
   "outputs": [],
   "source": [
    "df_clean = pd.merge(df_clean, df_list, on='Ville', how='left')"
   ]
  },
  {
   "cell_type": "code",
   "execution_count": 43,
   "metadata": {
    "slideshow": {
     "slide_type": "skip"
    }
   },
   "outputs": [
    {
     "data": {
      "text/html": [
       "<div>\n",
       "<style scoped>\n",
       "    .dataframe tbody tr th:only-of-type {\n",
       "        vertical-align: middle;\n",
       "    }\n",
       "\n",
       "    .dataframe tbody tr th {\n",
       "        vertical-align: top;\n",
       "    }\n",
       "\n",
       "    .dataframe thead th {\n",
       "        text-align: right;\n",
       "    }\n",
       "</style>\n",
       "<table border=\"1\" class=\"dataframe\">\n",
       "  <thead>\n",
       "    <tr style=\"text-align: right;\">\n",
       "      <th></th>\n",
       "      <th>Region</th>\n",
       "      <th>Total_pop</th>\n",
       "      <th>Ville</th>\n",
       "      <th>August2016</th>\n",
       "      <th>September2017</th>\n",
       "      <th>August2018</th>\n",
       "      <th>August2019</th>\n",
       "      <th>lat</th>\n",
       "      <th>lon</th>\n",
       "    </tr>\n",
       "  </thead>\n",
       "  <tbody>\n",
       "    <tr>\n",
       "      <th>0</th>\n",
       "      <td>[[Casablanca-Settat]]</td>\n",
       "      <td>3359818</td>\n",
       "      <td>Casablanca</td>\n",
       "      <td>816.0</td>\n",
       "      <td>688.0</td>\n",
       "      <td>645.0</td>\n",
       "      <td>726.0</td>\n",
       "      <td>33.595063</td>\n",
       "      <td>-7.618777</td>\n",
       "    </tr>\n",
       "    <tr>\n",
       "      <th>1</th>\n",
       "      <td>[[Rabat-Salé-Kénitra]]</td>\n",
       "      <td>577827</td>\n",
       "      <td>Rabat</td>\n",
       "      <td>802.0</td>\n",
       "      <td>891.0</td>\n",
       "      <td>960.0</td>\n",
       "      <td>1086.0</td>\n",
       "      <td>34.022405</td>\n",
       "      <td>-6.834543</td>\n",
       "    </tr>\n",
       "    <tr>\n",
       "      <th>2</th>\n",
       "      <td>[[Oriental (Morocco)|Oriental]]</td>\n",
       "      <td>494252</td>\n",
       "      <td>Oujda</td>\n",
       "      <td>494.0</td>\n",
       "      <td>533.0</td>\n",
       "      <td>581.0</td>\n",
       "      <td>570.0</td>\n",
       "      <td>34.677874</td>\n",
       "      <td>-1.929306</td>\n",
       "    </tr>\n",
       "    <tr>\n",
       "      <th>3</th>\n",
       "      <td>[[Rabat-Salé-Kénitra]]</td>\n",
       "      <td>313510</td>\n",
       "      <td>Temara</td>\n",
       "      <td>273.0</td>\n",
       "      <td>271.0</td>\n",
       "      <td>294.0</td>\n",
       "      <td>383.0</td>\n",
       "      <td>33.922468</td>\n",
       "      <td>-6.913341</td>\n",
       "    </tr>\n",
       "    <tr>\n",
       "      <th>4</th>\n",
       "      <td>[[Rabat-Salé-Kénitra]]</td>\n",
       "      <td>431282</td>\n",
       "      <td>Kenitra</td>\n",
       "      <td>272.0</td>\n",
       "      <td>422.0</td>\n",
       "      <td>NaN</td>\n",
       "      <td>NaN</td>\n",
       "      <td>34.264570</td>\n",
       "      <td>-6.570169</td>\n",
       "    </tr>\n",
       "    <tr>\n",
       "      <th>5</th>\n",
       "      <td>[[Tanger-Tetouan-Al Hoceima]]</td>\n",
       "      <td>947952</td>\n",
       "      <td>Tanger</td>\n",
       "      <td>268.0</td>\n",
       "      <td>235.0</td>\n",
       "      <td>304.0</td>\n",
       "      <td>289.0</td>\n",
       "      <td>35.764231</td>\n",
       "      <td>-5.818626</td>\n",
       "    </tr>\n",
       "    <tr>\n",
       "      <th>6</th>\n",
       "      <td>[[Fès-Meknès]]</td>\n",
       "      <td>632079</td>\n",
       "      <td>Meknes</td>\n",
       "      <td>168.0</td>\n",
       "      <td>209.0</td>\n",
       "      <td>223.0</td>\n",
       "      <td>297.0</td>\n",
       "      <td>33.897812</td>\n",
       "      <td>-5.531984</td>\n",
       "    </tr>\n",
       "    <tr>\n",
       "      <th>7</th>\n",
       "      <td>[[Rabat-Salé-Kénitra]]</td>\n",
       "      <td>890403</td>\n",
       "      <td>Salé</td>\n",
       "      <td>146.0</td>\n",
       "      <td>NaN</td>\n",
       "      <td>NaN</td>\n",
       "      <td>NaN</td>\n",
       "      <td>34.015678</td>\n",
       "      <td>-6.756799</td>\n",
       "    </tr>\n",
       "  </tbody>\n",
       "</table>\n",
       "</div>"
      ],
      "text/plain": [
       "                            Region  Total_pop       Ville  August2016  \\\n",
       "0            [[Casablanca-Settat]]    3359818  Casablanca       816.0   \n",
       "1           [[Rabat-Salé-Kénitra]]     577827       Rabat       802.0   \n",
       "2  [[Oriental (Morocco)|Oriental]]     494252       Oujda       494.0   \n",
       "3           [[Rabat-Salé-Kénitra]]     313510      Temara       273.0   \n",
       "4           [[Rabat-Salé-Kénitra]]     431282     Kenitra       272.0   \n",
       "5    [[Tanger-Tetouan-Al Hoceima]]     947952      Tanger       268.0   \n",
       "6                   [[Fès-Meknès]]     632079      Meknes       168.0   \n",
       "7           [[Rabat-Salé-Kénitra]]     890403        Salé       146.0   \n",
       "\n",
       "   September2017  August2018  August2019        lat       lon  \n",
       "0          688.0       645.0       726.0  33.595063 -7.618777  \n",
       "1          891.0       960.0      1086.0  34.022405 -6.834543  \n",
       "2          533.0       581.0       570.0  34.677874 -1.929306  \n",
       "3          271.0       294.0       383.0  33.922468 -6.913341  \n",
       "4          422.0         NaN         NaN  34.264570 -6.570169  \n",
       "5          235.0       304.0       289.0  35.764231 -5.818626  \n",
       "6          209.0       223.0       297.0  33.897812 -5.531984  \n",
       "7            NaN         NaN         NaN  34.015678 -6.756799  "
      ]
     },
     "execution_count": 43,
     "metadata": {},
     "output_type": "execute_result"
    }
   ],
   "source": [
    "df_clean"
   ]
  },
  {
   "cell_type": "code",
   "execution_count": 44,
   "metadata": {
    "slideshow": {
     "slide_type": "skip"
    }
   },
   "outputs": [],
   "source": [
    "df_clean.to_csv('Villes_Maroccomplete.csv', index=False)"
   ]
  },
  {
   "cell_type": "code",
   "execution_count": 45,
   "metadata": {
    "slideshow": {
     "slide_type": "skip"
    }
   },
   "outputs": [],
   "source": [
    "df_clean= pd.read_csv('Villes_Maroccomplete.csv')"
   ]
  },
  {
   "cell_type": "code",
   "execution_count": 49,
   "metadata": {
    "slideshow": {
     "slide_type": "skip"
    }
   },
   "outputs": [],
   "source": [
    "region = df_clean.groupby('Region').sum()"
   ]
  },
  {
   "cell_type": "code",
   "execution_count": 59,
   "metadata": {},
   "outputs": [],
   "source": [
    "region['prop_refugies']= region['August2019'] / region['Total_pop'] *100"
   ]
  },
  {
   "cell_type": "markdown",
   "metadata": {
    "slideshow": {
     "slide_type": "slide"
    }
   },
   "source": [
    "### Proportion of refugees in the regions\n",
    "> #### It is clear that the Region of Oriental who get more refugees in proportion"
   ]
  },
  {
   "cell_type": "code",
   "execution_count": 73,
   "metadata": {
    "slideshow": {
     "slide_type": "subslide"
    }
   },
   "outputs": [
    {
     "data": {
      "image/png": "[encoded data removed]",
      "text/plain": [
       "<Figure size 432x288 with 1 Axes>"
      ]
     },
     "metadata": {
      "needs_background": "light"
     },
     "output_type": "display_data"
    }
   ],
   "source": [
    "sb.barplot(y=region.index,x=region['prop_refugies'])\n",
    "plt.xticks(rotation=65);\n",
    "plt.title('Proportion of Refugees in Regions')\n",
    "plt.xlabel('Proportion of refugees in %')\n",
    "plt.ylabel('Regions');"
   ]
  },
  {
   "cell_type": "markdown",
   "metadata": {
    "slideshow": {
     "slide_type": "slide"
    }
   },
   "source": [
    "### The distribution of Refugees in the Regions during the last 4 years\n",
    "> #### The distribution by regions shows different trends: the region of Fes shows an increase in 2019 "
   ]
  },
  {
   "cell_type": "code",
   "execution_count": 72,
   "metadata": {
    "scrolled": true,
    "slideshow": {
     "slide_type": "subslide"
    }
   },
   "outputs": [
    {
     "data": {
      "image/png": "[encoded data removed]",
      "text/plain": [
       "<Figure size 432x288 with 1 Axes>"
      ]
     },
     "metadata": {
      "needs_background": "light"
     },
     "output_type": "display_data"
    }
   ],
   "source": [
    "plt.scatter(y=region.index, x=region['August2019'], label='Nb de réfugiés en Août 2019')\n",
    "plt.scatter(y=region.index, x=region['August2018'], label='Nb de réfugiés en Août 2018')\n",
    "plt.scatter(y=region.index, x=region['September2017'], label='Nb de réfugiés en Septembre 2017')\n",
    "plt.scatter(y=region.index, x=region['August2016'], label='Nb de réfugiés en Août 2016');\n",
    "plt.legend(framealpha=1, frameon=True)\n",
    "plt.xticks(rotation=90);"
   ]
  },
  {
   "cell_type": "code",
   "execution_count": null,
   "metadata": {},
   "outputs": [],
   "source": []
  }
 ],
 "metadata": {
  "celltoolbar": "Diaporama",
  "kernelspec": {
   "display_name": "Python 3",
   "language": "python",
   "name": "python3"
  },
  "language_info": {
   "codemirror_mode": {
    "name": "ipython",
    "version": 3
   },
   "file_extension": ".py",
   "mimetype": "text/x-python",
   "name": "python",
   "nbconvert_exporter": "python",
   "pygments_lexer": "ipython3",
   "version": "3.7.3"
  }
 },
 "nbformat": 4,
 "nbformat_minor": 2
}
